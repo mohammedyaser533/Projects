{
  "cells": [
    {
      "cell_type": "markdown",
      "metadata": {
        "id": "vncDsAP0Gaoa"
      },
      "source": [
        "# **Project Name**    - Credit Card Transaction Fraud Detection\n",
        "\n"
      ]
    },
    {
      "cell_type": "markdown",
      "metadata": {
        "id": "beRrZCGUAJYm"
      },
      "source": [
        "##### **Project Type**    - Classification\n",
        "##### **Team Lead**    - Sanu Satyam\n",
        "###### **Team Member 1 -** Gaurav Srivastava\n",
        "###### **Team Member 2 -** Krishna Kumar G\n",
        "###### **Team Member 3 -** Mohit Gupta\n",
        "###### **Team Member 4 -** Md. yasir\n",
        "###### **Team Member 5 -** Panchmurthi Bhargavi\n",
        "###### **Team Member 6 -** Shefali Pandey\n",
        "###### **Team Member 7 -** Vamsi Kopparthi"
      ]
    },
    {
      "cell_type": "markdown",
      "metadata": {
        "id": "yQaldy8SH6Dl"
      },
      "source": [
        "# **Problem Statement**\n"
      ]
    },
    {
      "cell_type": "markdown",
      "metadata": {
        "id": "DpeJGUA3kjGy"
      },
      "source": [
        "**Write Problem Statement Here.**"
      ]
    },
    {
      "cell_type": "markdown",
      "metadata": {
        "id": "HhfV-JJviCcP"
      },
      "source": [
        "## ***1. Know Your Data***"
      ]
    },
    {
      "cell_type": "markdown",
      "metadata": {
        "id": "Y3lxredqlCYt"
      },
      "source": [
        "### Import Libraries"
      ]
    },
    {
      "cell_type": "code",
      "execution_count": null,
      "metadata": {
        "id": "M8Vqi-pPk-HR"
      },
      "outputs": [],
      "source": [
        "# Import Libraries\n",
        "import numpy as np\n",
        "import pandas as pd\n",
        "import matplotlib.pyplot as plt\n",
        "import seaborn as sns"
      ]
    },
    {
      "cell_type": "markdown",
      "metadata": {
        "id": "3RnN4peoiCZX"
      },
      "source": [
        "### Dataset Loading"
      ]
    },
    {
      "cell_type": "code",
      "execution_count": null,
      "metadata": {
        "id": "4CkvbW_SlZ_R"
      },
      "outputs": [],
      "source": [
        "data = pd.read_csv(\"/content/fraud_data.csv\")"
      ]
    },
    {
      "cell_type": "markdown",
      "metadata": {
        "id": "x71ZqKXriCWQ"
      },
      "source": [
        "### Dataset First View"
      ]
    },
    {
      "cell_type": "code",
      "execution_count": null,
      "metadata": {
        "id": "LWNFOSvLl09H",
        "colab": {
          "base_uri": "https://localhost:8080/",
          "height": 495
        },
        "outputId": "ddd3a43e-a048-4500-d0ea-d45afdd3145a"
      },
      "outputs": [
        {
          "output_type": "execute_result",
          "data": {
            "text/plain": [
              "  trans_date_trans_time        cc_num                 merchant       category  \\\n",
              "0      01-01-2019 06:02  3.007470e+13        fraud_Lockman Ltd    grocery_pos   \n",
              "1      01-01-2019 06:04  3.553630e+15      fraud_Stracke-Lemke    grocery_pos   \n",
              "2      01-01-2019 06:20  4.512830e+18  fraud_Jaskolski-Dibbert    grocery_net   \n",
              "3      01-01-2019 06:46  6.593250e+15    fraud_Brekke and Sons  gas_transport   \n",
              "4      01-01-2019 06:52  4.018110e+18           fraud_Kuhn LLC       misc_net   \n",
              "\n",
              "      amt             name gender                         street         city  \\\n",
              "0  212.75  Kelsey Richards      F    889 Sarah Station Suite 624      Holcomb   \n",
              "1   83.07   Sharon Johnson      F             7202 Jeffrey Mills       Conway   \n",
              "2   16.16     Monica Cohen      F            864 Reynolds Plains        Uledi   \n",
              "3   55.18     Melissa Meza      F             244 Abbott Parkway  Loxahatchee   \n",
              "4    6.36   Katherine Love      F  5884 Sandoval Square Apt. 371   Allenhurst   \n",
              "\n",
              "  state      lat      long  city_pop  \\\n",
              "0    KS  37.9931 -100.9893      2691   \n",
              "1    WA  48.3400 -122.3456        85   \n",
              "2    PA  39.8936  -79.7856       328   \n",
              "3    FL  26.7383  -80.2760     26551   \n",
              "4    NJ  40.2367  -74.0067      1533   \n",
              "\n",
              "                                                job         dob  \\\n",
              "0                                   Arboriculturist  16-08-1993   \n",
              "1                 Research officer, political party  01-09-1984   \n",
              "2                                      Tree surgeon  25-07-1983   \n",
              "3                                         Paramedic  04-01-1977   \n",
              "4  Administrator, charities/voluntary organisations  15-04-1935   \n",
              "\n",
              "                          trans_num   unix_time  merch_lat  merch_long  \\\n",
              "0  d9dcde500bed2cad48ee41e44c362596  1325377935  38.862183 -101.234087   \n",
              "1  9b7a0619dcc5c572dc134f2827ed5a6b  1325378050  48.682111 -122.719904   \n",
              "2  514a1b5251ca91aeab8994cf6253f04b  1325379053  39.222743  -78.839099   \n",
              "3  3c6158c556727d527f8b51cc03b30236  1325380612  27.346033  -80.475563   \n",
              "4  99b8d1e83b17dad071aedb850c3a8da9  1325380934  39.926556  -73.774415   \n",
              "\n",
              "   is_fraud  \n",
              "0         0  \n",
              "1         0  \n",
              "2         0  \n",
              "3         0  \n",
              "4         0  "
            ],
            "text/html": [
              "\n",
              "  <div id=\"df-c6d28223-3b60-47d3-befe-8eb52ca17beb\">\n",
              "    <div class=\"colab-df-container\">\n",
              "      <div>\n",
              "<style scoped>\n",
              "    .dataframe tbody tr th:only-of-type {\n",
              "        vertical-align: middle;\n",
              "    }\n",
              "\n",
              "    .dataframe tbody tr th {\n",
              "        vertical-align: top;\n",
              "    }\n",
              "\n",
              "    .dataframe thead th {\n",
              "        text-align: right;\n",
              "    }\n",
              "</style>\n",
              "<table border=\"1\" class=\"dataframe\">\n",
              "  <thead>\n",
              "    <tr style=\"text-align: right;\">\n",
              "      <th></th>\n",
              "      <th>trans_date_trans_time</th>\n",
              "      <th>cc_num</th>\n",
              "      <th>merchant</th>\n",
              "      <th>category</th>\n",
              "      <th>amt</th>\n",
              "      <th>name</th>\n",
              "      <th>gender</th>\n",
              "      <th>street</th>\n",
              "      <th>city</th>\n",
              "      <th>state</th>\n",
              "      <th>lat</th>\n",
              "      <th>long</th>\n",
              "      <th>city_pop</th>\n",
              "      <th>job</th>\n",
              "      <th>dob</th>\n",
              "      <th>trans_num</th>\n",
              "      <th>unix_time</th>\n",
              "      <th>merch_lat</th>\n",
              "      <th>merch_long</th>\n",
              "      <th>is_fraud</th>\n",
              "    </tr>\n",
              "  </thead>\n",
              "  <tbody>\n",
              "    <tr>\n",
              "      <th>0</th>\n",
              "      <td>01-01-2019 06:02</td>\n",
              "      <td>3.007470e+13</td>\n",
              "      <td>fraud_Lockman Ltd</td>\n",
              "      <td>grocery_pos</td>\n",
              "      <td>212.75</td>\n",
              "      <td>Kelsey Richards</td>\n",
              "      <td>F</td>\n",
              "      <td>889 Sarah Station Suite 624</td>\n",
              "      <td>Holcomb</td>\n",
              "      <td>KS</td>\n",
              "      <td>37.9931</td>\n",
              "      <td>-100.9893</td>\n",
              "      <td>2691</td>\n",
              "      <td>Arboriculturist</td>\n",
              "      <td>16-08-1993</td>\n",
              "      <td>d9dcde500bed2cad48ee41e44c362596</td>\n",
              "      <td>1325377935</td>\n",
              "      <td>38.862183</td>\n",
              "      <td>-101.234087</td>\n",
              "      <td>0</td>\n",
              "    </tr>\n",
              "    <tr>\n",
              "      <th>1</th>\n",
              "      <td>01-01-2019 06:04</td>\n",
              "      <td>3.553630e+15</td>\n",
              "      <td>fraud_Stracke-Lemke</td>\n",
              "      <td>grocery_pos</td>\n",
              "      <td>83.07</td>\n",
              "      <td>Sharon Johnson</td>\n",
              "      <td>F</td>\n",
              "      <td>7202 Jeffrey Mills</td>\n",
              "      <td>Conway</td>\n",
              "      <td>WA</td>\n",
              "      <td>48.3400</td>\n",
              "      <td>-122.3456</td>\n",
              "      <td>85</td>\n",
              "      <td>Research officer, political party</td>\n",
              "      <td>01-09-1984</td>\n",
              "      <td>9b7a0619dcc5c572dc134f2827ed5a6b</td>\n",
              "      <td>1325378050</td>\n",
              "      <td>48.682111</td>\n",
              "      <td>-122.719904</td>\n",
              "      <td>0</td>\n",
              "    </tr>\n",
              "    <tr>\n",
              "      <th>2</th>\n",
              "      <td>01-01-2019 06:20</td>\n",
              "      <td>4.512830e+18</td>\n",
              "      <td>fraud_Jaskolski-Dibbert</td>\n",
              "      <td>grocery_net</td>\n",
              "      <td>16.16</td>\n",
              "      <td>Monica Cohen</td>\n",
              "      <td>F</td>\n",
              "      <td>864 Reynolds Plains</td>\n",
              "      <td>Uledi</td>\n",
              "      <td>PA</td>\n",
              "      <td>39.8936</td>\n",
              "      <td>-79.7856</td>\n",
              "      <td>328</td>\n",
              "      <td>Tree surgeon</td>\n",
              "      <td>25-07-1983</td>\n",
              "      <td>514a1b5251ca91aeab8994cf6253f04b</td>\n",
              "      <td>1325379053</td>\n",
              "      <td>39.222743</td>\n",
              "      <td>-78.839099</td>\n",
              "      <td>0</td>\n",
              "    </tr>\n",
              "    <tr>\n",
              "      <th>3</th>\n",
              "      <td>01-01-2019 06:46</td>\n",
              "      <td>6.593250e+15</td>\n",
              "      <td>fraud_Brekke and Sons</td>\n",
              "      <td>gas_transport</td>\n",
              "      <td>55.18</td>\n",
              "      <td>Melissa Meza</td>\n",
              "      <td>F</td>\n",
              "      <td>244 Abbott Parkway</td>\n",
              "      <td>Loxahatchee</td>\n",
              "      <td>FL</td>\n",
              "      <td>26.7383</td>\n",
              "      <td>-80.2760</td>\n",
              "      <td>26551</td>\n",
              "      <td>Paramedic</td>\n",
              "      <td>04-01-1977</td>\n",
              "      <td>3c6158c556727d527f8b51cc03b30236</td>\n",
              "      <td>1325380612</td>\n",
              "      <td>27.346033</td>\n",
              "      <td>-80.475563</td>\n",
              "      <td>0</td>\n",
              "    </tr>\n",
              "    <tr>\n",
              "      <th>4</th>\n",
              "      <td>01-01-2019 06:52</td>\n",
              "      <td>4.018110e+18</td>\n",
              "      <td>fraud_Kuhn LLC</td>\n",
              "      <td>misc_net</td>\n",
              "      <td>6.36</td>\n",
              "      <td>Katherine Love</td>\n",
              "      <td>F</td>\n",
              "      <td>5884 Sandoval Square Apt. 371</td>\n",
              "      <td>Allenhurst</td>\n",
              "      <td>NJ</td>\n",
              "      <td>40.2367</td>\n",
              "      <td>-74.0067</td>\n",
              "      <td>1533</td>\n",
              "      <td>Administrator, charities/voluntary organisations</td>\n",
              "      <td>15-04-1935</td>\n",
              "      <td>99b8d1e83b17dad071aedb850c3a8da9</td>\n",
              "      <td>1325380934</td>\n",
              "      <td>39.926556</td>\n",
              "      <td>-73.774415</td>\n",
              "      <td>0</td>\n",
              "    </tr>\n",
              "  </tbody>\n",
              "</table>\n",
              "</div>\n",
              "      <button class=\"colab-df-convert\" onclick=\"convertToInteractive('df-c6d28223-3b60-47d3-befe-8eb52ca17beb')\"\n",
              "              title=\"Convert this dataframe to an interactive table.\"\n",
              "              style=\"display:none;\">\n",
              "        \n",
              "  <svg xmlns=\"http://www.w3.org/2000/svg\" height=\"24px\"viewBox=\"0 0 24 24\"\n",
              "       width=\"24px\">\n",
              "    <path d=\"M0 0h24v24H0V0z\" fill=\"none\"/>\n",
              "    <path d=\"M18.56 5.44l.94 2.06.94-2.06 2.06-.94-2.06-.94-.94-2.06-.94 2.06-2.06.94zm-11 1L8.5 8.5l.94-2.06 2.06-.94-2.06-.94L8.5 2.5l-.94 2.06-2.06.94zm10 10l.94 2.06.94-2.06 2.06-.94-2.06-.94-.94-2.06-.94 2.06-2.06.94z\"/><path d=\"M17.41 7.96l-1.37-1.37c-.4-.4-.92-.59-1.43-.59-.52 0-1.04.2-1.43.59L10.3 9.45l-7.72 7.72c-.78.78-.78 2.05 0 2.83L4 21.41c.39.39.9.59 1.41.59.51 0 1.02-.2 1.41-.59l7.78-7.78 2.81-2.81c.8-.78.8-2.07 0-2.86zM5.41 20L4 18.59l7.72-7.72 1.47 1.35L5.41 20z\"/>\n",
              "  </svg>\n",
              "      </button>\n",
              "      \n",
              "  <style>\n",
              "    .colab-df-container {\n",
              "      display:flex;\n",
              "      flex-wrap:wrap;\n",
              "      gap: 12px;\n",
              "    }\n",
              "\n",
              "    .colab-df-convert {\n",
              "      background-color: #E8F0FE;\n",
              "      border: none;\n",
              "      border-radius: 50%;\n",
              "      cursor: pointer;\n",
              "      display: none;\n",
              "      fill: #1967D2;\n",
              "      height: 32px;\n",
              "      padding: 0 0 0 0;\n",
              "      width: 32px;\n",
              "    }\n",
              "\n",
              "    .colab-df-convert:hover {\n",
              "      background-color: #E2EBFA;\n",
              "      box-shadow: 0px 1px 2px rgba(60, 64, 67, 0.3), 0px 1px 3px 1px rgba(60, 64, 67, 0.15);\n",
              "      fill: #174EA6;\n",
              "    }\n",
              "\n",
              "    [theme=dark] .colab-df-convert {\n",
              "      background-color: #3B4455;\n",
              "      fill: #D2E3FC;\n",
              "    }\n",
              "\n",
              "    [theme=dark] .colab-df-convert:hover {\n",
              "      background-color: #434B5C;\n",
              "      box-shadow: 0px 1px 3px 1px rgba(0, 0, 0, 0.15);\n",
              "      filter: drop-shadow(0px 1px 2px rgba(0, 0, 0, 0.3));\n",
              "      fill: #FFFFFF;\n",
              "    }\n",
              "  </style>\n",
              "\n",
              "      <script>\n",
              "        const buttonEl =\n",
              "          document.querySelector('#df-c6d28223-3b60-47d3-befe-8eb52ca17beb button.colab-df-convert');\n",
              "        buttonEl.style.display =\n",
              "          google.colab.kernel.accessAllowed ? 'block' : 'none';\n",
              "\n",
              "        async function convertToInteractive(key) {\n",
              "          const element = document.querySelector('#df-c6d28223-3b60-47d3-befe-8eb52ca17beb');\n",
              "          const dataTable =\n",
              "            await google.colab.kernel.invokeFunction('convertToInteractive',\n",
              "                                                     [key], {});\n",
              "          if (!dataTable) return;\n",
              "\n",
              "          const docLinkHtml = 'Like what you see? Visit the ' +\n",
              "            '<a target=\"_blank\" href=https://colab.research.google.com/notebooks/data_table.ipynb>data table notebook</a>'\n",
              "            + ' to learn more about interactive tables.';\n",
              "          element.innerHTML = '';\n",
              "          dataTable['output_type'] = 'display_data';\n",
              "          await google.colab.output.renderOutput(dataTable, element);\n",
              "          const docLink = document.createElement('div');\n",
              "          docLink.innerHTML = docLinkHtml;\n",
              "          element.appendChild(docLink);\n",
              "        }\n",
              "      </script>\n",
              "    </div>\n",
              "  </div>\n",
              "  "
            ]
          },
          "metadata": {},
          "execution_count": 3
        }
      ],
      "source": [
        "data.head()"
      ]
    },
    {
      "cell_type": "markdown",
      "metadata": {
        "id": "7hBIi_osiCS2"
      },
      "source": [
        "### Dataset Rows & Columns count"
      ]
    },
    {
      "cell_type": "code",
      "execution_count": null,
      "metadata": {
        "id": "Kllu7SJgmLij",
        "colab": {
          "base_uri": "https://localhost:8080/"
        },
        "outputId": "2478224b-6e75-4248-c25d-19638df94312"
      },
      "outputs": [
        {
          "output_type": "execute_result",
          "data": {
            "text/plain": [
              "(209651, 20)"
            ]
          },
          "metadata": {},
          "execution_count": 4
        }
      ],
      "source": [
        "data.shape"
      ]
    },
    {
      "cell_type": "markdown",
      "metadata": {
        "id": "JlHwYmJAmNHm"
      },
      "source": [
        "### Dataset Information"
      ]
    },
    {
      "cell_type": "code",
      "execution_count": null,
      "metadata": {
        "id": "e9hRXRi6meOf",
        "colab": {
          "base_uri": "https://localhost:8080/"
        },
        "outputId": "acfe1852-8463-4383-c56b-fcd7a778eece"
      },
      "outputs": [
        {
          "output_type": "stream",
          "name": "stdout",
          "text": [
            "<class 'pandas.core.frame.DataFrame'>\n",
            "RangeIndex: 209651 entries, 0 to 209650\n",
            "Data columns (total 20 columns):\n",
            " #   Column                 Non-Null Count   Dtype  \n",
            "---  ------                 --------------   -----  \n",
            " 0   trans_date_trans_time  209651 non-null  object \n",
            " 1   cc_num                 209651 non-null  float64\n",
            " 2   merchant               209651 non-null  object \n",
            " 3   category               209651 non-null  object \n",
            " 4   amt                    209651 non-null  float64\n",
            " 5   name                   209651 non-null  object \n",
            " 6   gender                 209651 non-null  object \n",
            " 7   street                 209651 non-null  object \n",
            " 8   city                   209651 non-null  object \n",
            " 9   state                  209651 non-null  object \n",
            " 10  lat                    209651 non-null  float64\n",
            " 11  long                   209651 non-null  float64\n",
            " 12  city_pop               209651 non-null  int64  \n",
            " 13  job                    209651 non-null  object \n",
            " 14  dob                    209651 non-null  object \n",
            " 15  trans_num              209651 non-null  object \n",
            " 16  unix_time              209651 non-null  int64  \n",
            " 17  merch_lat              209651 non-null  float64\n",
            " 18  merch_long             209651 non-null  float64\n",
            " 19  is_fraud               209651 non-null  int64  \n",
            "dtypes: float64(6), int64(3), object(11)\n",
            "memory usage: 32.0+ MB\n"
          ]
        }
      ],
      "source": [
        "data.info()"
      ]
    },
    {
      "cell_type": "markdown",
      "metadata": {
        "id": "35m5QtbWiB9F"
      },
      "source": [
        "#### Duplicate Values"
      ]
    },
    {
      "cell_type": "code",
      "execution_count": null,
      "metadata": {
        "id": "1sLdpKYkmox0",
        "colab": {
          "base_uri": "https://localhost:8080/"
        },
        "outputId": "a0ac46db-79e1-48de-badf-f0e1314e96da"
      },
      "outputs": [
        {
          "output_type": "execute_result",
          "data": {
            "text/plain": [
              "0"
            ]
          },
          "metadata": {},
          "execution_count": 6
        }
      ],
      "source": [
        "data.duplicated().sum()"
      ]
    },
    {
      "cell_type": "markdown",
      "metadata": {
        "id": "PoPl-ycgm1ru"
      },
      "source": [
        "#### Missing Values/Null Values"
      ]
    },
    {
      "cell_type": "code",
      "execution_count": null,
      "metadata": {
        "id": "GgHWkxvamxVg",
        "colab": {
          "base_uri": "https://localhost:8080/"
        },
        "outputId": "8052a6a2-8828-4901-fc57-abb10d3c9553"
      },
      "outputs": [
        {
          "output_type": "execute_result",
          "data": {
            "text/plain": [
              "trans_date_trans_time    0\n",
              "cc_num                   0\n",
              "merchant                 0\n",
              "category                 0\n",
              "amt                      0\n",
              "name                     0\n",
              "gender                   0\n",
              "street                   0\n",
              "city                     0\n",
              "state                    0\n",
              "lat                      0\n",
              "long                     0\n",
              "city_pop                 0\n",
              "job                      0\n",
              "dob                      0\n",
              "trans_num                0\n",
              "unix_time                0\n",
              "merch_lat                0\n",
              "merch_long               0\n",
              "is_fraud                 0\n",
              "dtype: int64"
            ]
          },
          "metadata": {},
          "execution_count": 7
        }
      ],
      "source": [
        "data.isna().sum()"
      ]
    },
    {
      "cell_type": "markdown",
      "metadata": {
        "id": "gfoNAAC-nUe_"
      },
      "source": [
        "The Dataset has 209651 rows and 20 columns. It has no duplicates and null values."
      ]
    },
    {
      "cell_type": "markdown",
      "metadata": {
        "id": "nA9Y7ga8ng1Z"
      },
      "source": [
        "## ***2. Understanding Your Variables***"
      ]
    },
    {
      "cell_type": "code",
      "execution_count": null,
      "metadata": {
        "id": "j7xfkqrt5Ag5",
        "colab": {
          "base_uri": "https://localhost:8080/"
        },
        "outputId": "63d5933c-0273-46a3-e74b-92388fc6162e"
      },
      "outputs": [
        {
          "output_type": "execute_result",
          "data": {
            "text/plain": [
              "Index(['trans_date_trans_time', 'cc_num', 'merchant', 'category', 'amt',\n",
              "       'name', 'gender', 'street', 'city', 'state', 'lat', 'long', 'city_pop',\n",
              "       'job', 'dob', 'trans_num', 'unix_time', 'merch_lat', 'merch_long',\n",
              "       'is_fraud'],\n",
              "      dtype='object')"
            ]
          },
          "metadata": {},
          "execution_count": 8
        }
      ],
      "source": [
        "data.columns"
      ]
    },
    {
      "cell_type": "code",
      "execution_count": null,
      "metadata": {
        "id": "DnOaZdaE5Q5t",
        "colab": {
          "base_uri": "https://localhost:8080/",
          "height": 300
        },
        "outputId": "090d31e6-f8e4-4064-8b9e-e2aa79403554"
      },
      "outputs": [
        {
          "output_type": "execute_result",
          "data": {
            "text/plain": [
              "             cc_num            amt            lat           long  \\\n",
              "count  2.096510e+05  209651.000000  209651.000000  209651.000000   \n",
              "mean   4.146945e+17      89.583376      38.549583     -90.236515   \n",
              "std    1.305438e+18     212.000962       5.072616      13.761965   \n",
              "min    6.041621e+10       1.000000      20.027100    -165.672300   \n",
              "25%    1.800360e+14       9.930000      34.668900     -96.798000   \n",
              "50%    3.519610e+15      49.180000      39.371600     -87.476900   \n",
              "75%    4.635330e+15      87.930000      41.948800     -80.175200   \n",
              "max    4.992350e+18   27119.770000      66.693300     -67.950300   \n",
              "\n",
              "           city_pop     unix_time      merch_lat     merch_long       is_fraud  \n",
              "count  2.096510e+05  2.096510e+05  209651.000000  209651.000000  209651.000000  \n",
              "mean   8.904593e+04  1.358516e+09      38.548503     -90.237149       0.046034  \n",
              "std    3.011289e+05  1.817933e+07       5.107879      13.771945       0.209558  \n",
              "min    2.300000e+01  1.325378e+09      19.027804    -166.669638       0.000000  \n",
              "25%    7.430000e+02  1.342961e+09      34.756059     -96.904540       0.000000  \n",
              "50%    2.456000e+03  1.356951e+09      39.375763     -87.459875       0.000000  \n",
              "75%    2.032800e+04  1.374411e+09      41.966234     -80.261122       0.000000  \n",
              "max    2.906700e+06  1.388534e+09      67.510267     -66.956540       1.000000  "
            ],
            "text/html": [
              "\n",
              "  <div id=\"df-0455406f-2c71-4e83-aabb-eca515340c92\">\n",
              "    <div class=\"colab-df-container\">\n",
              "      <div>\n",
              "<style scoped>\n",
              "    .dataframe tbody tr th:only-of-type {\n",
              "        vertical-align: middle;\n",
              "    }\n",
              "\n",
              "    .dataframe tbody tr th {\n",
              "        vertical-align: top;\n",
              "    }\n",
              "\n",
              "    .dataframe thead th {\n",
              "        text-align: right;\n",
              "    }\n",
              "</style>\n",
              "<table border=\"1\" class=\"dataframe\">\n",
              "  <thead>\n",
              "    <tr style=\"text-align: right;\">\n",
              "      <th></th>\n",
              "      <th>cc_num</th>\n",
              "      <th>amt</th>\n",
              "      <th>lat</th>\n",
              "      <th>long</th>\n",
              "      <th>city_pop</th>\n",
              "      <th>unix_time</th>\n",
              "      <th>merch_lat</th>\n",
              "      <th>merch_long</th>\n",
              "      <th>is_fraud</th>\n",
              "    </tr>\n",
              "  </thead>\n",
              "  <tbody>\n",
              "    <tr>\n",
              "      <th>count</th>\n",
              "      <td>2.096510e+05</td>\n",
              "      <td>209651.000000</td>\n",
              "      <td>209651.000000</td>\n",
              "      <td>209651.000000</td>\n",
              "      <td>2.096510e+05</td>\n",
              "      <td>2.096510e+05</td>\n",
              "      <td>209651.000000</td>\n",
              "      <td>209651.000000</td>\n",
              "      <td>209651.000000</td>\n",
              "    </tr>\n",
              "    <tr>\n",
              "      <th>mean</th>\n",
              "      <td>4.146945e+17</td>\n",
              "      <td>89.583376</td>\n",
              "      <td>38.549583</td>\n",
              "      <td>-90.236515</td>\n",
              "      <td>8.904593e+04</td>\n",
              "      <td>1.358516e+09</td>\n",
              "      <td>38.548503</td>\n",
              "      <td>-90.237149</td>\n",
              "      <td>0.046034</td>\n",
              "    </tr>\n",
              "    <tr>\n",
              "      <th>std</th>\n",
              "      <td>1.305438e+18</td>\n",
              "      <td>212.000962</td>\n",
              "      <td>5.072616</td>\n",
              "      <td>13.761965</td>\n",
              "      <td>3.011289e+05</td>\n",
              "      <td>1.817933e+07</td>\n",
              "      <td>5.107879</td>\n",
              "      <td>13.771945</td>\n",
              "      <td>0.209558</td>\n",
              "    </tr>\n",
              "    <tr>\n",
              "      <th>min</th>\n",
              "      <td>6.041621e+10</td>\n",
              "      <td>1.000000</td>\n",
              "      <td>20.027100</td>\n",
              "      <td>-165.672300</td>\n",
              "      <td>2.300000e+01</td>\n",
              "      <td>1.325378e+09</td>\n",
              "      <td>19.027804</td>\n",
              "      <td>-166.669638</td>\n",
              "      <td>0.000000</td>\n",
              "    </tr>\n",
              "    <tr>\n",
              "      <th>25%</th>\n",
              "      <td>1.800360e+14</td>\n",
              "      <td>9.930000</td>\n",
              "      <td>34.668900</td>\n",
              "      <td>-96.798000</td>\n",
              "      <td>7.430000e+02</td>\n",
              "      <td>1.342961e+09</td>\n",
              "      <td>34.756059</td>\n",
              "      <td>-96.904540</td>\n",
              "      <td>0.000000</td>\n",
              "    </tr>\n",
              "    <tr>\n",
              "      <th>50%</th>\n",
              "      <td>3.519610e+15</td>\n",
              "      <td>49.180000</td>\n",
              "      <td>39.371600</td>\n",
              "      <td>-87.476900</td>\n",
              "      <td>2.456000e+03</td>\n",
              "      <td>1.356951e+09</td>\n",
              "      <td>39.375763</td>\n",
              "      <td>-87.459875</td>\n",
              "      <td>0.000000</td>\n",
              "    </tr>\n",
              "    <tr>\n",
              "      <th>75%</th>\n",
              "      <td>4.635330e+15</td>\n",
              "      <td>87.930000</td>\n",
              "      <td>41.948800</td>\n",
              "      <td>-80.175200</td>\n",
              "      <td>2.032800e+04</td>\n",
              "      <td>1.374411e+09</td>\n",
              "      <td>41.966234</td>\n",
              "      <td>-80.261122</td>\n",
              "      <td>0.000000</td>\n",
              "    </tr>\n",
              "    <tr>\n",
              "      <th>max</th>\n",
              "      <td>4.992350e+18</td>\n",
              "      <td>27119.770000</td>\n",
              "      <td>66.693300</td>\n",
              "      <td>-67.950300</td>\n",
              "      <td>2.906700e+06</td>\n",
              "      <td>1.388534e+09</td>\n",
              "      <td>67.510267</td>\n",
              "      <td>-66.956540</td>\n",
              "      <td>1.000000</td>\n",
              "    </tr>\n",
              "  </tbody>\n",
              "</table>\n",
              "</div>\n",
              "      <button class=\"colab-df-convert\" onclick=\"convertToInteractive('df-0455406f-2c71-4e83-aabb-eca515340c92')\"\n",
              "              title=\"Convert this dataframe to an interactive table.\"\n",
              "              style=\"display:none;\">\n",
              "        \n",
              "  <svg xmlns=\"http://www.w3.org/2000/svg\" height=\"24px\"viewBox=\"0 0 24 24\"\n",
              "       width=\"24px\">\n",
              "    <path d=\"M0 0h24v24H0V0z\" fill=\"none\"/>\n",
              "    <path d=\"M18.56 5.44l.94 2.06.94-2.06 2.06-.94-2.06-.94-.94-2.06-.94 2.06-2.06.94zm-11 1L8.5 8.5l.94-2.06 2.06-.94-2.06-.94L8.5 2.5l-.94 2.06-2.06.94zm10 10l.94 2.06.94-2.06 2.06-.94-2.06-.94-.94-2.06-.94 2.06-2.06.94z\"/><path d=\"M17.41 7.96l-1.37-1.37c-.4-.4-.92-.59-1.43-.59-.52 0-1.04.2-1.43.59L10.3 9.45l-7.72 7.72c-.78.78-.78 2.05 0 2.83L4 21.41c.39.39.9.59 1.41.59.51 0 1.02-.2 1.41-.59l7.78-7.78 2.81-2.81c.8-.78.8-2.07 0-2.86zM5.41 20L4 18.59l7.72-7.72 1.47 1.35L5.41 20z\"/>\n",
              "  </svg>\n",
              "      </button>\n",
              "      \n",
              "  <style>\n",
              "    .colab-df-container {\n",
              "      display:flex;\n",
              "      flex-wrap:wrap;\n",
              "      gap: 12px;\n",
              "    }\n",
              "\n",
              "    .colab-df-convert {\n",
              "      background-color: #E8F0FE;\n",
              "      border: none;\n",
              "      border-radius: 50%;\n",
              "      cursor: pointer;\n",
              "      display: none;\n",
              "      fill: #1967D2;\n",
              "      height: 32px;\n",
              "      padding: 0 0 0 0;\n",
              "      width: 32px;\n",
              "    }\n",
              "\n",
              "    .colab-df-convert:hover {\n",
              "      background-color: #E2EBFA;\n",
              "      box-shadow: 0px 1px 2px rgba(60, 64, 67, 0.3), 0px 1px 3px 1px rgba(60, 64, 67, 0.15);\n",
              "      fill: #174EA6;\n",
              "    }\n",
              "\n",
              "    [theme=dark] .colab-df-convert {\n",
              "      background-color: #3B4455;\n",
              "      fill: #D2E3FC;\n",
              "    }\n",
              "\n",
              "    [theme=dark] .colab-df-convert:hover {\n",
              "      background-color: #434B5C;\n",
              "      box-shadow: 0px 1px 3px 1px rgba(0, 0, 0, 0.15);\n",
              "      filter: drop-shadow(0px 1px 2px rgba(0, 0, 0, 0.3));\n",
              "      fill: #FFFFFF;\n",
              "    }\n",
              "  </style>\n",
              "\n",
              "      <script>\n",
              "        const buttonEl =\n",
              "          document.querySelector('#df-0455406f-2c71-4e83-aabb-eca515340c92 button.colab-df-convert');\n",
              "        buttonEl.style.display =\n",
              "          google.colab.kernel.accessAllowed ? 'block' : 'none';\n",
              "\n",
              "        async function convertToInteractive(key) {\n",
              "          const element = document.querySelector('#df-0455406f-2c71-4e83-aabb-eca515340c92');\n",
              "          const dataTable =\n",
              "            await google.colab.kernel.invokeFunction('convertToInteractive',\n",
              "                                                     [key], {});\n",
              "          if (!dataTable) return;\n",
              "\n",
              "          const docLinkHtml = 'Like what you see? Visit the ' +\n",
              "            '<a target=\"_blank\" href=https://colab.research.google.com/notebooks/data_table.ipynb>data table notebook</a>'\n",
              "            + ' to learn more about interactive tables.';\n",
              "          element.innerHTML = '';\n",
              "          dataTable['output_type'] = 'display_data';\n",
              "          await google.colab.output.renderOutput(dataTable, element);\n",
              "          const docLink = document.createElement('div');\n",
              "          docLink.innerHTML = docLinkHtml;\n",
              "          element.appendChild(docLink);\n",
              "        }\n",
              "      </script>\n",
              "    </div>\n",
              "  </div>\n",
              "  "
            ]
          },
          "metadata": {},
          "execution_count": 9
        }
      ],
      "source": [
        "data.describe()"
      ]
    },
    {
      "cell_type": "markdown",
      "metadata": {
        "id": "dauF4eBmngu3"
      },
      "source": [
        "## 3. ***Data Wrangling***"
      ]
    },
    {
      "cell_type": "markdown",
      "metadata": {
        "id": "bKJF3rekwFvQ"
      },
      "source": [
        "### Data Wrangling Code"
      ]
    },
    {
      "cell_type": "code",
      "execution_count": null,
      "metadata": {
        "id": "wk-9a2fpoLcV"
      },
      "outputs": [],
      "source": [
        "data['dob'] = pd.to_datetime(data['dob'], utc=True)"
      ]
    },
    {
      "cell_type": "code",
      "source": [
        "data.drop(['trans_date_trans_time','cc_num', 'street'],axis=1, inplace=True)"
      ],
      "metadata": {
        "id": "osOLhus0wiX7"
      },
      "execution_count": null,
      "outputs": []
    },
    {
      "cell_type": "code",
      "source": [
        "data.shape"
      ],
      "metadata": {
        "id": "8tbMueGNxxvF",
        "colab": {
          "base_uri": "https://localhost:8080/"
        },
        "outputId": "0162fa9b-f7b2-4cc6-8e79-17ec3565a604"
      },
      "execution_count": null,
      "outputs": [
        {
          "output_type": "execute_result",
          "data": {
            "text/plain": [
              "(209651, 17)"
            ]
          },
          "metadata": {},
          "execution_count": 12
        }
      ]
    },
    {
      "cell_type": "markdown",
      "metadata": {
        "id": "LbyXE7I1olp8"
      },
      "source": [
        "Changed the \"trans_date_trans_time\" & \"dob\" column into datetime datatype.\n",
        "Dropped the \"cc_num\" & \"street\" column because it's not relevant for our data visualization."
      ]
    },
    {
      "cell_type": "markdown",
      "metadata": {
        "id": "GF8Ens_Soomf"
      },
      "source": [
        "## ***4. Data Vizualization, Storytelling & Experimenting with charts : Understand the relationships between variables***"
      ]
    },
    {
      "cell_type": "markdown",
      "metadata": {
        "id": "0wOQAZs5pc--"
      },
      "source": [
        "#### Chart - 1"
      ]
    },
    {
      "cell_type": "code",
      "source": [
        "#Top 10 merchants\n",
        "merchants = data['merchant'].value_counts(ascending=False).head(10)\n",
        "plt.figure(figsize=(10,8))\n",
        "sns.barplot(y=merchants.index, x=merchants.values, data=data)\n",
        "plt.title(\"Top 10 Merchants by Number of Transactions\", fontsize=18)\n",
        "plt.xlabel(\"Number of Transactions\")\n",
        "plt.ylabel(\"Merchants\")\n",
        "plt.show()"
      ],
      "metadata": {
        "id": "6VicXWdv22Pu",
        "colab": {
          "base_uri": "https://localhost:8080/",
          "height": 517
        },
        "outputId": "743e36c6-16ab-48a0-9f0a-739e2b9da458"
      },
      "execution_count": null,
      "outputs": [
        {
          "output_type": "display_data",
          "data": {
            "text/plain": [
              "<Figure size 720x576 with 1 Axes>"
            ],
            "image/png": "[encoded data removed]"
          },
          "metadata": {
            "needs_background": "light"
          }
        }
      ]
    },
    {
      "cell_type": "markdown",
      "metadata": {
        "id": "KSlN3yHqYklG"
      },
      "source": [
        "#### Chart - 2"
      ]
    },
    {
      "cell_type": "code",
      "execution_count": null,
      "metadata": {
        "id": "R4YgtaqtYklH",
        "colab": {
          "base_uri": "https://localhost:8080/",
          "height": 518
        },
        "outputId": "dd86c8c3-f8c0-4bd1-812c-f90f20cbc084"
      },
      "outputs": [
        {
          "output_type": "display_data",
          "data": {
            "text/plain": [
              "<Figure size 1296x576 with 1 Axes>"
            ],
            "image/png": "[encoded data removed]"
          },
          "metadata": {
            "needs_background": "light"
          }
        }
      ],
      "source": [
        "#Category-wise Total Amount\n",
        "cat = data.groupby('category')['amt'].sum().reset_index()\n",
        "plt.figure(figsize=(18,8))\n",
        "sns.barplot(x='category', y='amt', data=cat)\n",
        "plt.title(\"Group VS Total Amount\", fontsize= 18)\n",
        "plt.xlabel(\"Amount in Million($)\")\n",
        "plt.show()"
      ]
    },
    {
      "cell_type": "markdown",
      "metadata": {
        "id": "EM7whBJCYoAo"
      },
      "source": [
        "#### Chart - 3"
      ]
    },
    {
      "cell_type": "code",
      "execution_count": null,
      "metadata": {
        "id": "irlUoxc8YrdO",
        "colab": {
          "base_uri": "https://localhost:8080/",
          "height": 517
        },
        "outputId": "8ced0e84-890c-4845-b972-2ac9fad428d9"
      },
      "outputs": [
        {
          "output_type": "display_data",
          "data": {
            "text/plain": [
              "<Figure size 864x576 with 1 Axes>"
            ],
            "image/png": "[encoded data removed]"
          },
          "metadata": {
            "needs_background": "light"
          }
        }
      ],
      "source": [
        "#Top 10 Cities By Number of Transactions\n",
        "city = data['city'].value_counts(ascending=False).head(10)\n",
        "plt.figure(figsize=(12,8))\n",
        "sns.barplot(x=city.index, y=city.values, data=data)\n",
        "plt.title(\"Top 10 Cities by Number of Transactions\", fontsize=18)\n",
        "plt.xlabel(\"Number of Transactions\")\n",
        "plt.ylabel(\"Cities\")\n",
        "plt.show()"
      ]
    },
    {
      "cell_type": "markdown",
      "metadata": {
        "id": "4Of9eVA-YrdM"
      },
      "source": [
        "#### Chart - 4"
      ]
    },
    {
      "cell_type": "code",
      "execution_count": null,
      "metadata": {
        "id": "TIJwrbroYuh3",
        "colab": {
          "base_uri": "https://localhost:8080/",
          "height": 518
        },
        "outputId": "3539c24e-f33e-4efa-c1ff-22459d17d743"
      },
      "outputs": [
        {
          "output_type": "display_data",
          "data": {
            "text/plain": [
              "<Figure size 864x576 with 1 Axes>"
            ],
            "image/png": "[encoded data removed]"
          },
          "metadata": {
            "needs_background": "light"
          }
        }
      ],
      "source": [
        "#Top 10 most populated State\n",
        "city_pop = data.groupby('state')['city_pop'].sum().reset_index()\n",
        "city_pop = city_pop.sort_values(by='city_pop',ascending=False)[:10]\n",
        "plt.figure(figsize=(12,8))\n",
        "sns.barplot(y='state', x='city_pop', data=city_pop)\n",
        "plt.title(\"Top 10 most populated State\", fontsize= 18)\n",
        "plt.show()"
      ]
    },
    {
      "cell_type": "markdown",
      "metadata": {
        "id": "bamQiAODYuh1"
      },
      "source": [
        "#### Chart - 5"
      ]
    },
    {
      "cell_type": "code",
      "source": [
        "plt.figure(figsize=(8,8))\n",
        "plt.pie(data['is_fraud'].value_counts(),autopct= \"%1.1f%%\")\n",
        "plt.title(\"Data Label Distribution\")\n",
        "plt.show()"
      ],
      "metadata": {
        "colab": {
          "base_uri": "https://localhost:8080/",
          "height": 482
        },
        "id": "WF7gtS4X_cKc",
        "outputId": "3fa2a7eb-3cdb-4221-c849-c28c15197b16"
      },
      "execution_count": null,
      "outputs": [
        {
          "output_type": "display_data",
          "data": {
            "text/plain": [
              "<Figure size 576x576 with 1 Axes>"
            ],
            "image/png": "[encoded data removed]"
          },
          "metadata": {}
        }
      ]
    },
    {
      "cell_type": "markdown",
      "metadata": {
        "id": "OH-pJp9IphqM"
      },
      "source": [
        "#### Chart - 6"
      ]
    },
    {
      "cell_type": "code",
      "source": [
        "plt.figure(figsize=(20,5))\n",
        "sns.barplot(x = 'category', y = 'amt', hue = 'is_fraud', data = data,)\n",
        "plt.show()"
      ],
      "metadata": {
        "colab": {
          "base_uri": "https://localhost:8080/",
          "height": 335
        },
        "id": "JPItqELm4Dfx",
        "outputId": "a2147f84-9b9a-446f-a1cb-39ffe0b6c13e"
      },
      "execution_count": null,
      "outputs": [
        {
          "output_type": "display_data",
          "data": {
            "text/plain": [
              "<Figure size 1440x360 with 1 Axes>"
            ],
            "image/png": "[encoded data removed]"
          },
          "metadata": {
            "needs_background": "light"
          }
        }
      ]
    },
    {
      "cell_type": "markdown",
      "metadata": {
        "id": "PIIx-8_IphqN"
      },
      "source": [
        "#### Chart - 7"
      ]
    },
    {
      "cell_type": "code",
      "source": [
        "plt.figure(figsize=(20,8))\n",
        "sns.barplot(x = 'state', y = 'amt', hue = 'is_fraud', data = data)\n",
        "plt.title(\"Statewise Fraud Amount\", fontsize=20)\n",
        "plt.show()"
      ],
      "metadata": {
        "colab": {
          "base_uri": "https://localhost:8080/",
          "height": 518
        },
        "id": "qS6p_1zh4Ris",
        "outputId": "5face097-25a4-45ed-f9c4-dcc5a7cb247d"
      },
      "execution_count": null,
      "outputs": [
        {
          "output_type": "display_data",
          "data": {
            "text/plain": [
              "<Figure size 1440x576 with 1 Axes>"
            ],
            "image/png": "[encoded data removed]"
          },
          "metadata": {
            "needs_background": "light"
          }
        }
      ]
    },
    {
      "cell_type": "markdown",
      "metadata": {
        "id": "BZR9WyysphqO"
      },
      "source": [
        "#### Chart - 8"
      ]
    },
    {
      "cell_type": "code",
      "execution_count": null,
      "metadata": {
        "id": "TdPTWpAVphqO",
        "colab": {
          "base_uri": "https://localhost:8080/",
          "height": 613
        },
        "outputId": "7893e83b-c92a-456d-f4a6-83851ca431f1"
      },
      "outputs": [
        {
          "output_type": "display_data",
          "data": {
            "text/plain": [
              "<Figure size 864x720 with 2 Axes>"
            ],
            "image/png": "[encoded data removed]"
          },
          "metadata": {
            "needs_background": "light"
          }
        }
      ],
      "source": [
        "plt.figure(figsize=(12,10))\n",
        "sns.heatmap(data.corr(), annot=True)\n",
        "plt.title(\"Correlation Heatmap\", fontsize=20)\n",
        "plt.show()"
      ]
    },
    {
      "cell_type": "markdown",
      "metadata": {
        "id": "yLjJCtPM0KBk"
      },
      "source": [
        "## ***5. Feature Engineering & Data Pre-processing***"
      ]
    },
    {
      "cell_type": "markdown",
      "metadata": {
        "id": "C74aWNz2AliB"
      },
      "source": [
        "#### 1. Feature Manipulation"
      ]
    },
    {
      "cell_type": "code",
      "execution_count": null,
      "metadata": {
        "id": "h1qC4yhBApWC",
        "colab": {
          "base_uri": "https://localhost:8080/",
          "height": 277
        },
        "outputId": "8c70c166-12b8-4bca-90f3-2c50f9293af7"
      },
      "outputs": [
        {
          "output_type": "execute_result",
          "data": {
            "text/plain": [
              "                  merchant     category     amt             name gender  \\\n",
              "0        fraud_Lockman Ltd  grocery_pos  212.75  Kelsey Richards      F   \n",
              "1      fraud_Stracke-Lemke  grocery_pos   83.07   Sharon Johnson      F   \n",
              "2  fraud_Jaskolski-Dibbert  grocery_net   16.16     Monica Cohen      F   \n",
              "\n",
              "      city state      lat      long  city_pop  \\\n",
              "0  Holcomb    KS  37.9931 -100.9893      2691   \n",
              "1   Conway    WA  48.3400 -122.3456        85   \n",
              "2    Uledi    PA  39.8936  -79.7856       328   \n",
              "\n",
              "                                 job                       dob  \\\n",
              "0                    Arboriculturist 1993-08-16 00:00:00+00:00   \n",
              "1  Research officer, political party 1984-01-09 00:00:00+00:00   \n",
              "2                       Tree surgeon 1983-07-25 00:00:00+00:00   \n",
              "\n",
              "                          trans_num   unix_time  merch_lat  merch_long  \\\n",
              "0  d9dcde500bed2cad48ee41e44c362596  1325377935  38.862183 -101.234087   \n",
              "1  9b7a0619dcc5c572dc134f2827ed5a6b  1325378050  48.682111 -122.719904   \n",
              "2  514a1b5251ca91aeab8994cf6253f04b  1325379053  39.222743  -78.839099   \n",
              "\n",
              "   is_fraud  age  \n",
              "0         0   30  \n",
              "1         0   39  \n",
              "2         0   40  "
            ],
            "text/html": [
              "\n",
              "  <div id=\"df-6d77a3b0-00ad-4c02-a1b0-fa16f02907eb\">\n",
              "    <div class=\"colab-df-container\">\n",
              "      <div>\n",
              "<style scoped>\n",
              "    .dataframe tbody tr th:only-of-type {\n",
              "        vertical-align: middle;\n",
              "    }\n",
              "\n",
              "    .dataframe tbody tr th {\n",
              "        vertical-align: top;\n",
              "    }\n",
              "\n",
              "    .dataframe thead th {\n",
              "        text-align: right;\n",
              "    }\n",
              "</style>\n",
              "<table border=\"1\" class=\"dataframe\">\n",
              "  <thead>\n",
              "    <tr style=\"text-align: right;\">\n",
              "      <th></th>\n",
              "      <th>merchant</th>\n",
              "      <th>category</th>\n",
              "      <th>amt</th>\n",
              "      <th>name</th>\n",
              "      <th>gender</th>\n",
              "      <th>city</th>\n",
              "      <th>state</th>\n",
              "      <th>lat</th>\n",
              "      <th>long</th>\n",
              "      <th>city_pop</th>\n",
              "      <th>job</th>\n",
              "      <th>dob</th>\n",
              "      <th>trans_num</th>\n",
              "      <th>unix_time</th>\n",
              "      <th>merch_lat</th>\n",
              "      <th>merch_long</th>\n",
              "      <th>is_fraud</th>\n",
              "      <th>age</th>\n",
              "    </tr>\n",
              "  </thead>\n",
              "  <tbody>\n",
              "    <tr>\n",
              "      <th>0</th>\n",
              "      <td>fraud_Lockman Ltd</td>\n",
              "      <td>grocery_pos</td>\n",
              "      <td>212.75</td>\n",
              "      <td>Kelsey Richards</td>\n",
              "      <td>F</td>\n",
              "      <td>Holcomb</td>\n",
              "      <td>KS</td>\n",
              "      <td>37.9931</td>\n",
              "      <td>-100.9893</td>\n",
              "      <td>2691</td>\n",
              "      <td>Arboriculturist</td>\n",
              "      <td>1993-08-16 00:00:00+00:00</td>\n",
              "      <td>d9dcde500bed2cad48ee41e44c362596</td>\n",
              "      <td>1325377935</td>\n",
              "      <td>38.862183</td>\n",
              "      <td>-101.234087</td>\n",
              "      <td>0</td>\n",
              "      <td>30</td>\n",
              "    </tr>\n",
              "    <tr>\n",
              "      <th>1</th>\n",
              "      <td>fraud_Stracke-Lemke</td>\n",
              "      <td>grocery_pos</td>\n",
              "      <td>83.07</td>\n",
              "      <td>Sharon Johnson</td>\n",
              "      <td>F</td>\n",
              "      <td>Conway</td>\n",
              "      <td>WA</td>\n",
              "      <td>48.3400</td>\n",
              "      <td>-122.3456</td>\n",
              "      <td>85</td>\n",
              "      <td>Research officer, political party</td>\n",
              "      <td>1984-01-09 00:00:00+00:00</td>\n",
              "      <td>9b7a0619dcc5c572dc134f2827ed5a6b</td>\n",
              "      <td>1325378050</td>\n",
              "      <td>48.682111</td>\n",
              "      <td>-122.719904</td>\n",
              "      <td>0</td>\n",
              "      <td>39</td>\n",
              "    </tr>\n",
              "    <tr>\n",
              "      <th>2</th>\n",
              "      <td>fraud_Jaskolski-Dibbert</td>\n",
              "      <td>grocery_net</td>\n",
              "      <td>16.16</td>\n",
              "      <td>Monica Cohen</td>\n",
              "      <td>F</td>\n",
              "      <td>Uledi</td>\n",
              "      <td>PA</td>\n",
              "      <td>39.8936</td>\n",
              "      <td>-79.7856</td>\n",
              "      <td>328</td>\n",
              "      <td>Tree surgeon</td>\n",
              "      <td>1983-07-25 00:00:00+00:00</td>\n",
              "      <td>514a1b5251ca91aeab8994cf6253f04b</td>\n",
              "      <td>1325379053</td>\n",
              "      <td>39.222743</td>\n",
              "      <td>-78.839099</td>\n",
              "      <td>0</td>\n",
              "      <td>40</td>\n",
              "    </tr>\n",
              "  </tbody>\n",
              "</table>\n",
              "</div>\n",
              "      <button class=\"colab-df-convert\" onclick=\"convertToInteractive('df-6d77a3b0-00ad-4c02-a1b0-fa16f02907eb')\"\n",
              "              title=\"Convert this dataframe to an interactive table.\"\n",
              "              style=\"display:none;\">\n",
              "        \n",
              "  <svg xmlns=\"http://www.w3.org/2000/svg\" height=\"24px\"viewBox=\"0 0 24 24\"\n",
              "       width=\"24px\">\n",
              "    <path d=\"M0 0h24v24H0V0z\" fill=\"none\"/>\n",
              "    <path d=\"M18.56 5.44l.94 2.06.94-2.06 2.06-.94-2.06-.94-.94-2.06-.94 2.06-2.06.94zm-11 1L8.5 8.5l.94-2.06 2.06-.94-2.06-.94L8.5 2.5l-.94 2.06-2.06.94zm10 10l.94 2.06.94-2.06 2.06-.94-2.06-.94-.94-2.06-.94 2.06-2.06.94z\"/><path d=\"M17.41 7.96l-1.37-1.37c-.4-.4-.92-.59-1.43-.59-.52 0-1.04.2-1.43.59L10.3 9.45l-7.72 7.72c-.78.78-.78 2.05 0 2.83L4 21.41c.39.39.9.59 1.41.59.51 0 1.02-.2 1.41-.59l7.78-7.78 2.81-2.81c.8-.78.8-2.07 0-2.86zM5.41 20L4 18.59l7.72-7.72 1.47 1.35L5.41 20z\"/>\n",
              "  </svg>\n",
              "      </button>\n",
              "      \n",
              "  <style>\n",
              "    .colab-df-container {\n",
              "      display:flex;\n",
              "      flex-wrap:wrap;\n",
              "      gap: 12px;\n",
              "    }\n",
              "\n",
              "    .colab-df-convert {\n",
              "      background-color: #E8F0FE;\n",
              "      border: none;\n",
              "      border-radius: 50%;\n",
              "      cursor: pointer;\n",
              "      display: none;\n",
              "      fill: #1967D2;\n",
              "      height: 32px;\n",
              "      padding: 0 0 0 0;\n",
              "      width: 32px;\n",
              "    }\n",
              "\n",
              "    .colab-df-convert:hover {\n",
              "      background-color: #E2EBFA;\n",
              "      box-shadow: 0px 1px 2px rgba(60, 64, 67, 0.3), 0px 1px 3px 1px rgba(60, 64, 67, 0.15);\n",
              "      fill: #174EA6;\n",
              "    }\n",
              "\n",
              "    [theme=dark] .colab-df-convert {\n",
              "      background-color: #3B4455;\n",
              "      fill: #D2E3FC;\n",
              "    }\n",
              "\n",
              "    [theme=dark] .colab-df-convert:hover {\n",
              "      background-color: #434B5C;\n",
              "      box-shadow: 0px 1px 3px 1px rgba(0, 0, 0, 0.15);\n",
              "      filter: drop-shadow(0px 1px 2px rgba(0, 0, 0, 0.3));\n",
              "      fill: #FFFFFF;\n",
              "    }\n",
              "  </style>\n",
              "\n",
              "      <script>\n",
              "        const buttonEl =\n",
              "          document.querySelector('#df-6d77a3b0-00ad-4c02-a1b0-fa16f02907eb button.colab-df-convert');\n",
              "        buttonEl.style.display =\n",
              "          google.colab.kernel.accessAllowed ? 'block' : 'none';\n",
              "\n",
              "        async function convertToInteractive(key) {\n",
              "          const element = document.querySelector('#df-6d77a3b0-00ad-4c02-a1b0-fa16f02907eb');\n",
              "          const dataTable =\n",
              "            await google.colab.kernel.invokeFunction('convertToInteractive',\n",
              "                                                     [key], {});\n",
              "          if (!dataTable) return;\n",
              "\n",
              "          const docLinkHtml = 'Like what you see? Visit the ' +\n",
              "            '<a target=\"_blank\" href=https://colab.research.google.com/notebooks/data_table.ipynb>data table notebook</a>'\n",
              "            + ' to learn more about interactive tables.';\n",
              "          element.innerHTML = '';\n",
              "          dataTable['output_type'] = 'display_data';\n",
              "          await google.colab.output.renderOutput(dataTable, element);\n",
              "          const docLink = document.createElement('div');\n",
              "          docLink.innerHTML = docLinkHtml;\n",
              "          element.appendChild(docLink);\n",
              "        }\n",
              "      </script>\n",
              "    </div>\n",
              "  </div>\n",
              "  "
            ]
          },
          "metadata": {},
          "execution_count": 21
        }
      ],
      "source": [
        "#Creating a new Feature Age\n",
        "from datetime import datetime\n",
        "today = datetime.today()\n",
        "today.year\n",
        "data['age'] = today.year - data['dob'].dt.year\n",
        "data.head(3)"
      ]
    },
    {
      "cell_type": "code",
      "source": [
        "plt.figure(figsize=(12,8))\n",
        "sns.scatterplot(x='age', y='amt', hue='is_fraud', data=data, palette = 'dark')\n",
        "plt.title(\"Transaction Amount and Age for Fraud and Non-Fraud Cases\", fontsize=20)\n",
        "plt.xlabel(\"Age\")\n",
        "plt.ylabel(\"Transaction Amount\")\n",
        "plt.show()"
      ],
      "metadata": {
        "colab": {
          "base_uri": "https://localhost:8080/",
          "height": 518
        },
        "id": "RJPS9NOQ4ECt",
        "outputId": "fd549293-78a5-42ec-ae53-77b95344866f"
      },
      "execution_count": null,
      "outputs": [
        {
          "output_type": "display_data",
          "data": {
            "text/plain": [
              "<Figure size 864x576 with 1 Axes>"
            ],
            "image/png": "[encoded data removed]"
          },
          "metadata": {
            "needs_background": "light"
          }
        }
      ]
    },
    {
      "cell_type": "markdown",
      "metadata": {
        "id": "2DejudWSA-a0"
      },
      "source": [
        "#### 2. Feature Selection"
      ]
    },
    {
      "cell_type": "code",
      "execution_count": null,
      "metadata": {
        "id": "YLhe8UmaBCEE"
      },
      "outputs": [],
      "source": [
        "data = data[['category','gender','amt','lat','long','city_pop','merch_lat','merch_long','age','is_fraud']]"
      ]
    },
    {
      "cell_type": "markdown",
      "source": [
        "#### 3. Categorical Encoding"
      ],
      "metadata": {
        "id": "-1wojAuJI7Ec"
      }
    },
    {
      "cell_type": "code",
      "source": [
        "from sklearn.preprocessing import LabelEncoder\n",
        "le=LabelEncoder()\n",
        "for i in data.columns:\n",
        "        if data[i].dtypes==(\"object\"):\n",
        "            label=le.fit_transform(data[i])\n",
        "            data[i]=label "
      ],
      "metadata": {
        "id": "t8lLOota5qLs"
      },
      "execution_count": null,
      "outputs": []
    },
    {
      "cell_type": "code",
      "source": [
        "data.head()"
      ],
      "metadata": {
        "colab": {
          "base_uri": "https://localhost:8080/",
          "height": 206
        },
        "id": "FHzmCQC66bv4",
        "outputId": "d6b2fc0c-e20e-4e79-e270-486f6faa295a"
      },
      "execution_count": null,
      "outputs": [
        {
          "output_type": "execute_result",
          "data": {
            "text/plain": [
              "   category  gender     amt      lat      long  city_pop  merch_lat  \\\n",
              "0         4       0  212.75  37.9931 -100.9893      2691  38.862183   \n",
              "1         4       0   83.07  48.3400 -122.3456        85  48.682111   \n",
              "2         3       0   16.16  39.8936  -79.7856       328  39.222743   \n",
              "3         2       0   55.18  26.7383  -80.2760     26551  27.346033   \n",
              "4         8       0    6.36  40.2367  -74.0067      1533  39.926556   \n",
              "\n",
              "   merch_long  age  is_fraud  \n",
              "0 -101.234087   30         0  \n",
              "1 -122.719904   39         0  \n",
              "2  -78.839099   40         0  \n",
              "3  -80.475563   46         0  \n",
              "4  -73.774415   88         0  "
            ],
            "text/html": [
              "\n",
              "  <div id=\"df-748822ed-9523-4add-b1f1-decacc5c424e\">\n",
              "    <div class=\"colab-df-container\">\n",
              "      <div>\n",
              "<style scoped>\n",
              "    .dataframe tbody tr th:only-of-type {\n",
              "        vertical-align: middle;\n",
              "    }\n",
              "\n",
              "    .dataframe tbody tr th {\n",
              "        vertical-align: top;\n",
              "    }\n",
              "\n",
              "    .dataframe thead th {\n",
              "        text-align: right;\n",
              "    }\n",
              "</style>\n",
              "<table border=\"1\" class=\"dataframe\">\n",
              "  <thead>\n",
              "    <tr style=\"text-align: right;\">\n",
              "      <th></th>\n",
              "      <th>category</th>\n",
              "      <th>gender</th>\n",
              "      <th>amt</th>\n",
              "      <th>lat</th>\n",
              "      <th>long</th>\n",
              "      <th>city_pop</th>\n",
              "      <th>merch_lat</th>\n",
              "      <th>merch_long</th>\n",
              "      <th>age</th>\n",
              "      <th>is_fraud</th>\n",
              "    </tr>\n",
              "  </thead>\n",
              "  <tbody>\n",
              "    <tr>\n",
              "      <th>0</th>\n",
              "      <td>4</td>\n",
              "      <td>0</td>\n",
              "      <td>212.75</td>\n",
              "      <td>37.9931</td>\n",
              "      <td>-100.9893</td>\n",
              "      <td>2691</td>\n",
              "      <td>38.862183</td>\n",
              "      <td>-101.234087</td>\n",
              "      <td>30</td>\n",
              "      <td>0</td>\n",
              "    </tr>\n",
              "    <tr>\n",
              "      <th>1</th>\n",
              "      <td>4</td>\n",
              "      <td>0</td>\n",
              "      <td>83.07</td>\n",
              "      <td>48.3400</td>\n",
              "      <td>-122.3456</td>\n",
              "      <td>85</td>\n",
              "      <td>48.682111</td>\n",
              "      <td>-122.719904</td>\n",
              "      <td>39</td>\n",
              "      <td>0</td>\n",
              "    </tr>\n",
              "    <tr>\n",
              "      <th>2</th>\n",
              "      <td>3</td>\n",
              "      <td>0</td>\n",
              "      <td>16.16</td>\n",
              "      <td>39.8936</td>\n",
              "      <td>-79.7856</td>\n",
              "      <td>328</td>\n",
              "      <td>39.222743</td>\n",
              "      <td>-78.839099</td>\n",
              "      <td>40</td>\n",
              "      <td>0</td>\n",
              "    </tr>\n",
              "    <tr>\n",
              "      <th>3</th>\n",
              "      <td>2</td>\n",
              "      <td>0</td>\n",
              "      <td>55.18</td>\n",
              "      <td>26.7383</td>\n",
              "      <td>-80.2760</td>\n",
              "      <td>26551</td>\n",
              "      <td>27.346033</td>\n",
              "      <td>-80.475563</td>\n",
              "      <td>46</td>\n",
              "      <td>0</td>\n",
              "    </tr>\n",
              "    <tr>\n",
              "      <th>4</th>\n",
              "      <td>8</td>\n",
              "      <td>0</td>\n",
              "      <td>6.36</td>\n",
              "      <td>40.2367</td>\n",
              "      <td>-74.0067</td>\n",
              "      <td>1533</td>\n",
              "      <td>39.926556</td>\n",
              "      <td>-73.774415</td>\n",
              "      <td>88</td>\n",
              "      <td>0</td>\n",
              "    </tr>\n",
              "  </tbody>\n",
              "</table>\n",
              "</div>\n",
              "      <button class=\"colab-df-convert\" onclick=\"convertToInteractive('df-748822ed-9523-4add-b1f1-decacc5c424e')\"\n",
              "              title=\"Convert this dataframe to an interactive table.\"\n",
              "              style=\"display:none;\">\n",
              "        \n",
              "  <svg xmlns=\"http://www.w3.org/2000/svg\" height=\"24px\"viewBox=\"0 0 24 24\"\n",
              "       width=\"24px\">\n",
              "    <path d=\"M0 0h24v24H0V0z\" fill=\"none\"/>\n",
              "    <path d=\"M18.56 5.44l.94 2.06.94-2.06 2.06-.94-2.06-.94-.94-2.06-.94 2.06-2.06.94zm-11 1L8.5 8.5l.94-2.06 2.06-.94-2.06-.94L8.5 2.5l-.94 2.06-2.06.94zm10 10l.94 2.06.94-2.06 2.06-.94-2.06-.94-.94-2.06-.94 2.06-2.06.94z\"/><path d=\"M17.41 7.96l-1.37-1.37c-.4-.4-.92-.59-1.43-.59-.52 0-1.04.2-1.43.59L10.3 9.45l-7.72 7.72c-.78.78-.78 2.05 0 2.83L4 21.41c.39.39.9.59 1.41.59.51 0 1.02-.2 1.41-.59l7.78-7.78 2.81-2.81c.8-.78.8-2.07 0-2.86zM5.41 20L4 18.59l7.72-7.72 1.47 1.35L5.41 20z\"/>\n",
              "  </svg>\n",
              "      </button>\n",
              "      \n",
              "  <style>\n",
              "    .colab-df-container {\n",
              "      display:flex;\n",
              "      flex-wrap:wrap;\n",
              "      gap: 12px;\n",
              "    }\n",
              "\n",
              "    .colab-df-convert {\n",
              "      background-color: #E8F0FE;\n",
              "      border: none;\n",
              "      border-radius: 50%;\n",
              "      cursor: pointer;\n",
              "      display: none;\n",
              "      fill: #1967D2;\n",
              "      height: 32px;\n",
              "      padding: 0 0 0 0;\n",
              "      width: 32px;\n",
              "    }\n",
              "\n",
              "    .colab-df-convert:hover {\n",
              "      background-color: #E2EBFA;\n",
              "      box-shadow: 0px 1px 2px rgba(60, 64, 67, 0.3), 0px 1px 3px 1px rgba(60, 64, 67, 0.15);\n",
              "      fill: #174EA6;\n",
              "    }\n",
              "\n",
              "    [theme=dark] .colab-df-convert {\n",
              "      background-color: #3B4455;\n",
              "      fill: #D2E3FC;\n",
              "    }\n",
              "\n",
              "    [theme=dark] .colab-df-convert:hover {\n",
              "      background-color: #434B5C;\n",
              "      box-shadow: 0px 1px 3px 1px rgba(0, 0, 0, 0.15);\n",
              "      filter: drop-shadow(0px 1px 2px rgba(0, 0, 0, 0.3));\n",
              "      fill: #FFFFFF;\n",
              "    }\n",
              "  </style>\n",
              "\n",
              "      <script>\n",
              "        const buttonEl =\n",
              "          document.querySelector('#df-748822ed-9523-4add-b1f1-decacc5c424e button.colab-df-convert');\n",
              "        buttonEl.style.display =\n",
              "          google.colab.kernel.accessAllowed ? 'block' : 'none';\n",
              "\n",
              "        async function convertToInteractive(key) {\n",
              "          const element = document.querySelector('#df-748822ed-9523-4add-b1f1-decacc5c424e');\n",
              "          const dataTable =\n",
              "            await google.colab.kernel.invokeFunction('convertToInteractive',\n",
              "                                                     [key], {});\n",
              "          if (!dataTable) return;\n",
              "\n",
              "          const docLinkHtml = 'Like what you see? Visit the ' +\n",
              "            '<a target=\"_blank\" href=https://colab.research.google.com/notebooks/data_table.ipynb>data table notebook</a>'\n",
              "            + ' to learn more about interactive tables.';\n",
              "          element.innerHTML = '';\n",
              "          dataTable['output_type'] = 'display_data';\n",
              "          await google.colab.output.renderOutput(dataTable, element);\n",
              "          const docLink = document.createElement('div');\n",
              "          docLink.innerHTML = docLinkHtml;\n",
              "          element.appendChild(docLink);\n",
              "        }\n",
              "      </script>\n",
              "    </div>\n",
              "  </div>\n",
              "  "
            ]
          },
          "metadata": {},
          "execution_count": 25
        }
      ]
    },
    {
      "cell_type": "code",
      "source": [
        "data.shape"
      ],
      "metadata": {
        "colab": {
          "base_uri": "https://localhost:8080/"
        },
        "id": "Qh6AI8hO6fGf",
        "outputId": "a5af5a0b-a90f-4797-8ed4-ccfc5214de59"
      },
      "execution_count": null,
      "outputs": [
        {
          "output_type": "execute_result",
          "data": {
            "text/plain": [
              "(209651, 10)"
            ]
          },
          "metadata": {},
          "execution_count": 26
        }
      ]
    },
    {
      "cell_type": "markdown",
      "metadata": {
        "id": "BhH2vgX9EjGr"
      },
      "source": [
        "#### 4. Data Splitting"
      ]
    },
    {
      "cell_type": "code",
      "execution_count": null,
      "metadata": {
        "id": "0CTyd2UwEyNM"
      },
      "outputs": [],
      "source": [
        "X = data.drop('is_fraud', axis=1)\n",
        "y = data['is_fraud']"
      ]
    },
    {
      "cell_type": "markdown",
      "metadata": {
        "id": "rMDnDkt2B6du"
      },
      "source": [
        "#### 5. Data Scaling"
      ]
    },
    {
      "cell_type": "code",
      "execution_count": null,
      "metadata": {
        "id": "dL9LWpySC6x_"
      },
      "outputs": [],
      "source": [
        "from sklearn.preprocessing import StandardScaler\n",
        "scalar = StandardScaler()\n",
        "X_sc = scalar.fit_transform(X)"
      ]
    },
    {
      "cell_type": "code",
      "source": [
        "X_sc"
      ],
      "metadata": {
        "colab": {
          "base_uri": "https://localhost:8080/"
        },
        "id": "XXzcy22eKLBN",
        "outputId": "32c7e823-faf3-4f61-82ca-b2949b14c2da"
      },
      "execution_count": null,
      "outputs": [
        {
          "output_type": "execute_result",
          "data": {
            "text/plain": [
              "array([[-0.57803224, -0.90980258,  0.58097339, ...,  0.06141118,\n",
              "        -0.79850482, -1.13251611],\n",
              "       [-0.57803224, -0.90980258, -0.03072341, ...,  1.98392168,\n",
              "        -2.35862353, -0.61691693],\n",
              "       [-0.83308292, -0.90980258, -0.34633594, ...,  0.13200033,\n",
              "         0.82763021, -0.55962814],\n",
              "       ...,\n",
              "       [-0.32298155,  1.09913956, -0.21610037, ...,  0.27376087,\n",
              "        -0.07959548,  0.41428143],\n",
              "       [ 1.7174239 ,  1.09913956, -0.38487359, ...,  1.15939239,\n",
              "        -1.94916577,  0.47157022],\n",
              "       [-1.59823496,  1.09913956, -0.24270408, ..., -0.45780477,\n",
              "        -0.49370219, -1.13251611]])"
            ]
          },
          "metadata": {},
          "execution_count": 29
        }
      ]
    },
    {
      "cell_type": "markdown",
      "metadata": {
        "id": "1UUpS68QDMuG"
      },
      "source": [
        "#### 6. Dimesionality Reduction"
      ]
    },
    {
      "cell_type": "code",
      "execution_count": null,
      "metadata": {
        "id": "kQfvxBBHDvCa"
      },
      "outputs": [],
      "source": [
        "#from sklearn.decomposition import PCA\n",
        "#pca = PCA(n_components = 20)\n",
        "#X_pca = pca.fit_transform(X_sc)"
      ]
    },
    {
      "cell_type": "code",
      "source": [
        "#X_pca.shape"
      ],
      "metadata": {
        "id": "2G0PQNs4KeiB"
      },
      "execution_count": null,
      "outputs": []
    },
    {
      "cell_type": "markdown",
      "metadata": {
        "id": "ZKr75IDuEM7t"
      },
      "source": [
        "#### 7. Train Test Split"
      ]
    },
    {
      "cell_type": "code",
      "source": [
        "from sklearn.model_selection import train_test_split\n",
        "X_train, X_test, y_train, y_test = train_test_split(X, y, test_size= 0.25, random_state=0)"
      ],
      "metadata": {
        "id": "6tGGgLKUKdqs"
      },
      "execution_count": null,
      "outputs": []
    },
    {
      "cell_type": "code",
      "source": [
        "print(X_train.shape)\n",
        "print(X_test.shape)"
      ],
      "metadata": {
        "colab": {
          "base_uri": "https://localhost:8080/"
        },
        "id": "kDq2cM2lKqcT",
        "outputId": "548e1fb8-0aa6-4134-ac8a-7cf765b8f814"
      },
      "execution_count": null,
      "outputs": [
        {
          "output_type": "stream",
          "name": "stdout",
          "text": [
            "(157238, 9)\n",
            "(52413, 9)\n"
          ]
        }
      ]
    },
    {
      "cell_type": "markdown",
      "metadata": {
        "id": "P1XJ9OREExlT"
      },
      "source": [
        "#### 8. Handling Imbalanced Dataset"
      ]
    },
    {
      "cell_type": "code",
      "execution_count": null,
      "metadata": {
        "id": "nQsRhhZLFiDs"
      },
      "outputs": [],
      "source": [
        "from imblearn.over_sampling import SMOTE\n",
        "sm = SMOTE()\n",
        "X_train_new, y_train_new = sm.fit_resample(X_train, y_train.ravel())"
      ]
    },
    {
      "cell_type": "code",
      "source": [
        "fig, (ax1, ax2) = plt.subplots(ncols = 2, figsize =(12, 6))\n",
        "\n",
        "pd.Series(y_train).value_counts().plot.bar(ax=ax1)\n",
        "ax1.set_title('Before SMOTE')\n",
        " \n",
        "pd.Series(y_train_new).value_counts().plot.bar(ax=ax2)\n",
        "ax2.set_title('After SMOTE') \n",
        "plt.show()"
      ],
      "metadata": {
        "colab": {
          "base_uri": "https://localhost:8080/",
          "height": 386
        },
        "id": "ImbthZG8LFXx",
        "outputId": "32a7ab8b-2b27-41b8-ef00-772ba2203630"
      },
      "execution_count": null,
      "outputs": [
        {
          "output_type": "display_data",
          "data": {
            "text/plain": [
              "<Figure size 864x432 with 2 Axes>"
            ],
            "image/png": "[encoded data removed]"
          },
          "metadata": {
            "needs_background": "light"
          }
        }
      ]
    },
    {
      "cell_type": "markdown",
      "metadata": {
        "id": "VfCC591jGiD4"
      },
      "source": [
        "## ***6. ML Model Implementation***"
      ]
    },
    {
      "cell_type": "code",
      "execution_count": null,
      "metadata": {
        "id": "yEl-hgQWpsJ1"
      },
      "outputs": [],
      "source": [
        "from sklearn.linear_model import LogisticRegression\n",
        "from sklearn.ensemble import RandomForestClassifier\n",
        "from sklearn.ensemble import AdaBoostClassifier"
      ]
    },
    {
      "cell_type": "code",
      "source": [
        "from sklearn.metrics import accuracy_score, classification_report, ConfusionMatrixDisplay"
      ],
      "metadata": {
        "id": "5VlLi0WMW8A6"
      },
      "execution_count": null,
      "outputs": []
    },
    {
      "cell_type": "markdown",
      "source": [
        "####  Logistic Regression"
      ],
      "metadata": {
        "id": "_UtyvFf59nZJ"
      }
    },
    {
      "cell_type": "code",
      "source": [
        "LR = LogisticRegression()\n",
        "LR.fit(X_train_new, y_train_new)"
      ],
      "metadata": {
        "colab": {
          "base_uri": "https://localhost:8080/"
        },
        "id": "HhWEfB1i5jEo",
        "outputId": "aa94fc5d-ba13-4ed6-a1c5-f3391b36a224"
      },
      "execution_count": null,
      "outputs": [
        {
          "output_type": "execute_result",
          "data": {
            "text/plain": [
              "LogisticRegression()"
            ]
          },
          "metadata": {},
          "execution_count": 39
        }
      ]
    },
    {
      "cell_type": "code",
      "source": [
        "y_pred = LR.predict(X_test)"
      ],
      "metadata": {
        "id": "g92I6LKC8LRe"
      },
      "execution_count": null,
      "outputs": []
    },
    {
      "cell_type": "code",
      "source": [
        "print(\"The Accuracy Score is: \", accuracy_score(y_test, y_pred))\n",
        "print(\"The Classification Report is: \")\n",
        "print(classification_report(y_test, y_pred))\n",
        "print(\"The Confusion Matrix is: \")\n",
        "ConfusionMatrixDisplay.from_predictions(y_test, y_pred)\n",
        "plt.show()"
      ],
      "metadata": {
        "colab": {
          "base_uri": "https://localhost:8080/",
          "height": 487
        },
        "id": "waNeTkCB8SsW",
        "outputId": "7c89722b-cf64-4e4d-8d94-1859d095968e"
      },
      "execution_count": null,
      "outputs": [
        {
          "output_type": "stream",
          "name": "stdout",
          "text": [
            "The Accuracy Score is:  0.9406826550664912\n",
            "The Classification Report is: \n",
            "              precision    recall  f1-score   support\n",
            "\n",
            "           0       0.99      0.95      0.97     49994\n",
            "           1       0.42      0.75      0.54      2419\n",
            "\n",
            "    accuracy                           0.94     52413\n",
            "   macro avg       0.70      0.85      0.75     52413\n",
            "weighted avg       0.96      0.94      0.95     52413\n",
            "\n",
            "The Confusion Matrix is: \n"
          ]
        },
        {
          "output_type": "display_data",
          "data": {
            "text/plain": [
              "<Figure size 432x288 with 2 Axes>"
            ],
            "image/png": "[encoded data removed]"
          },
          "metadata": {
            "needs_background": "light"
          }
        }
      ]
    },
    {
      "cell_type": "markdown",
      "source": [
        "#### Random Forest Classifier"
      ],
      "metadata": {
        "id": "ZZa0NDgy9shg"
      }
    },
    {
      "cell_type": "code",
      "source": [
        "RF = RandomForestClassifier()\n",
        "RF.fit(X_train_new, y_train_new)"
      ],
      "metadata": {
        "id": "mQWnOm4kYHlq",
        "colab": {
          "base_uri": "https://localhost:8080/"
        },
        "outputId": "c21c2b50-a27b-4ed6-d571-5a2c0c65dc6f"
      },
      "execution_count": null,
      "outputs": [
        {
          "output_type": "execute_result",
          "data": {
            "text/plain": [
              "RandomForestClassifier()"
            ]
          },
          "metadata": {},
          "execution_count": 42
        }
      ]
    },
    {
      "cell_type": "code",
      "source": [
        "y_pred1 = RF.predict(X_test)"
      ],
      "metadata": {
        "id": "uKe_pMNqYH1G"
      },
      "execution_count": null,
      "outputs": []
    },
    {
      "cell_type": "code",
      "source": [
        "print(\"The Accuracy Score is: \", accuracy_score(y_test, y_pred1))\n",
        "print(\"The Classification Report is: \")\n",
        "print(classification_report(y_test, y_pred1))\n",
        "print(\"The Confusion Matrix is: \")\n",
        "ConfusionMatrixDisplay.from_predictions(y_test, y_pred1)\n",
        "plt.show()"
      ],
      "metadata": {
        "id": "iwIkN7VuW0xj",
        "colab": {
          "base_uri": "https://localhost:8080/",
          "height": 487
        },
        "outputId": "71669b5f-2156-4afc-c367-576191a081bb"
      },
      "execution_count": null,
      "outputs": [
        {
          "output_type": "stream",
          "name": "stdout",
          "text": [
            "The Accuracy Score is:  0.9798141682407037\n",
            "The Classification Report is: \n",
            "              precision    recall  f1-score   support\n",
            "\n",
            "           0       0.99      0.98      0.99     49994\n",
            "           1       0.73      0.88      0.80      2419\n",
            "\n",
            "    accuracy                           0.98     52413\n",
            "   macro avg       0.86      0.93      0.90     52413\n",
            "weighted avg       0.98      0.98      0.98     52413\n",
            "\n",
            "The Confusion Matrix is: \n"
          ]
        },
        {
          "output_type": "display_data",
          "data": {
            "text/plain": [
              "<Figure size 432x288 with 2 Axes>"
            ],
            "image/png": "[encoded data removed]"
          },
          "metadata": {
            "needs_background": "light"
          }
        }
      ]
    },
    {
      "cell_type": "markdown",
      "source": [
        "#### AdaBoost Classifier"
      ],
      "metadata": {
        "id": "zGyePhRC9xDV"
      }
    },
    {
      "cell_type": "code",
      "source": [
        "ada = AdaBoostClassifier(n_estimators=50, learning_rate=0.01)"
      ],
      "metadata": {
        "id": "UyR2NsWcvWKX"
      },
      "execution_count": null,
      "outputs": []
    },
    {
      "cell_type": "code",
      "source": [
        "ada.fit(X_train_new, y_train_new)"
      ],
      "metadata": {
        "colab": {
          "base_uri": "https://localhost:8080/"
        },
        "id": "fMEowXEayLo5",
        "outputId": "b2d6140f-f860-48b2-a463-cec63264719d"
      },
      "execution_count": null,
      "outputs": [
        {
          "output_type": "execute_result",
          "data": {
            "text/plain": [
              "AdaBoostClassifier(learning_rate=0.01)"
            ]
          },
          "metadata": {},
          "execution_count": 46
        }
      ]
    },
    {
      "cell_type": "code",
      "source": [
        "y_pred2 = ada.predict(X_test)"
      ],
      "metadata": {
        "id": "pJqDa6KryRUy"
      },
      "execution_count": null,
      "outputs": []
    },
    {
      "cell_type": "code",
      "source": [
        "print(\"The Accuracy Score is: \", accuracy_score(y_test, y_pred2))\n",
        "print(\"The Classification Report is: \")\n",
        "print(classification_report(y_test, y_pred2))\n",
        "print(\"The Confusion Matrix is: \")\n",
        "ConfusionMatrixDisplay.from_predictions(y_test, y_pred2)\n",
        "plt.show()"
      ],
      "metadata": {
        "colab": {
          "base_uri": "https://localhost:8080/",
          "height": 487
        },
        "id": "kOq2827tzDQJ",
        "outputId": "e97745f7-b6a1-454e-ec9e-2a546a41b89f"
      },
      "execution_count": null,
      "outputs": [
        {
          "output_type": "stream",
          "name": "stdout",
          "text": [
            "The Accuracy Score is:  0.9607349321733157\n",
            "The Classification Report is: \n",
            "              precision    recall  f1-score   support\n",
            "\n",
            "           0       0.99      0.97      0.98     49994\n",
            "           1       0.56      0.75      0.64      2419\n",
            "\n",
            "    accuracy                           0.96     52413\n",
            "   macro avg       0.77      0.86      0.81     52413\n",
            "weighted avg       0.97      0.96      0.96     52413\n",
            "\n",
            "The Confusion Matrix is: \n"
          ]
        },
        {
          "output_type": "display_data",
          "data": {
            "text/plain": [
              "<Figure size 432x288 with 2 Axes>"
            ],
            "image/png": "[encoded data removed]"
          },
          "metadata": {
            "needs_background": "light"
          }
        }
      ]
    },
    {
      "cell_type": "markdown",
      "source": [
        "**The Best predicting model is Random Forest with accuracy score of 98%.**"
      ],
      "metadata": {
        "id": "m7QjAnZY_eOs"
      }
    },
    {
      "cell_type": "markdown",
      "source": [
        "### **7. Saving the Best Predicted Model**"
      ],
      "metadata": {
        "id": "iekY6gos_MaO"
      }
    },
    {
      "cell_type": "code",
      "source": [
        "import pickle"
      ],
      "metadata": {
        "id": "P0SK2K-F_SVb"
      },
      "execution_count": null,
      "outputs": []
    },
    {
      "cell_type": "code",
      "source": [
        "#Saving the model in pickle file\n",
        "\n",
        "pickle.dump(RF, open('RF_model', 'wb'))"
      ],
      "metadata": {
        "id": "uQM-n7jU_tSt"
      },
      "execution_count": null,
      "outputs": []
    },
    {
      "cell_type": "code",
      "source": [
        "#Opening and Testing the Pickle Model\n",
        "pickled_model = pickle.load(open('/content/RF_model', 'rb'))\n",
        "pickled_model.predict(X_test[:10])"
      ],
      "metadata": {
        "colab": {
          "base_uri": "https://localhost:8080/"
        },
        "id": "vqqIIrL6A37F",
        "outputId": "b8169279-842b-4e1c-eec2-718e9570b5fc"
      },
      "execution_count": null,
      "outputs": [
        {
          "output_type": "execute_result",
          "data": {
            "text/plain": [
              "array([0, 0, 0, 0, 0, 0, 1, 0, 0, 0])"
            ]
          },
          "metadata": {},
          "execution_count": 52
        }
      ]
    },
    {
      "cell_type": "code",
      "source": [
        "y_test[:10]"
      ],
      "metadata": {
        "colab": {
          "base_uri": "https://localhost:8080/"
        },
        "id": "OuanQ-gSDyR9",
        "outputId": "c57c217c-4df3-471e-c23b-09ca93050cdf"
      },
      "execution_count": null,
      "outputs": [
        {
          "output_type": "execute_result",
          "data": {
            "text/plain": [
              "152269    0\n",
              "94538     0\n",
              "209103    0\n",
              "53052     0\n",
              "132146    0\n",
              "89615     0\n",
              "145360    1\n",
              "200911    0\n",
              "59992     0\n",
              "52726     0\n",
              "Name: is_fraud, dtype: int64"
            ]
          },
          "metadata": {},
          "execution_count": 53
        }
      ]
    }
  ],
  "metadata": {
    "colab": {
      "provenance": []
    },
    "kernelspec": {
      "display_name": "base",
      "language": "python",
      "name": "python3"
    },
    "language_info": {
      "name": "python",
      "version": "3.9.12 (main, Apr  4 2022, 05:22:27) [MSC v.1916 64 bit (AMD64)]"
    },
    "vscode": {
      "interpreter": {
        "hash": "c969c9dd9d65d8d805e86182738ee57203ce63615d63093d42977449137586e0"
      }
    },
    "gpuClass": "standard"
  },
  "nbformat": 4,
  "nbformat_minor": 0
}